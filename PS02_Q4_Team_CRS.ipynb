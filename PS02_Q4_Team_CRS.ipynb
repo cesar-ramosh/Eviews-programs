{
  "nbformat": 4,
  "nbformat_minor": 0,
  "metadata": {
    "colab": {
      "provenance": [],
      "toc_visible": true,
      "authorship_tag": "ABX9TyOZyYktUZlY0QBQOfv7U75W",
      "include_colab_link": true
    },
    "kernelspec": {
      "name": "python3",
      "display_name": "Python 3"
    },
    "language_info": {
      "name": "python"
    }
  },
  "cells": [
    {
      "cell_type": "markdown",
      "metadata": {
        "id": "view-in-github",
        "colab_type": "text"
      },
      "source": [
        "<a href=\"https://colab.research.google.com/github/cesar-ramosh/Eviews-programs/blob/master/PS02_Q4_Team_CRS.ipynb\" target=\"_parent\"><img src=\"https://colab.research.google.com/assets/colab-badge.svg\" alt=\"Open In Colab\"/></a>"
      ]
    },
    {
      "cell_type": "markdown",
      "source": [
        "# <span style=\"color:blue;\">Problem Set 2: Heterogeneous Agents in Asset Pricing</span>\n",
        "\n",
        "**Professor:** Ph.D. Hamilton Galindo Gil  \n",
        "**Students:** Grupo 1 (Carrasco, Ramos, Sanchez)  \n",
        "**Date:** November 2, 2024  \n",
        "\n",
        "---\n",
        "\n",
        "## Table of Contents\n",
        "\n",
        "1. [Q1. Stochastic Optimal Control Problem](#Q1)\n",
        "2. [Q2. Control Problem with Optimal Consumption](#Q2)\n",
        "3. [Q3. Economy with Two Assets and a Representative Agent](#Q3)\n",
        "4. [Q4. Control Problem with Martingale Approach](#Q4)\n",
        "5. [Q5. Exponential Utility and Martingales](#Q5)\n",
        "\n",
        "---"
      ],
      "metadata": {
        "id": "wEXJMsPHaaWx"
      }
    },
    {
      "cell_type": "markdown",
      "source": [
        "---\n",
        "\n",
        "### <a id=\"Q1\"></a>Q1. Stochastic Optimal Control Problem\n",
        "\n",
        "**Consider the following stochastic optimal control problem:**\n",
        "\n",
        "$$\n",
        "\\min_{\\{u_t\\}} \\mathbb{E}_0 \\left[ \\int_0^{\\infty} e^{-rt} \\left( ax_t^2 + b u_t^2 \\right) dt \\right]\n",
        "$$\n",
        "\n",
        "subject to\n",
        "\n",
        "$$\n",
        "dx_t = u_t dt + \\sigma x_t dZ_t\n",
        "$$\n",
        "\n",
        "where \\( a > 0 \\), \\( b > 0 \\), and \\( \\sigma > 0 \\).\n",
        "\n",
        "1. (1 point) Find the **Hamilton-Jacobi-Bellman (HJB)** equation.\n",
        "2. (1 point) Find the **First-Order Condition (FOC)**: the control variable as a function of the derivative of the value function.\n",
        "3. (1 point) Find the **PDE** of the value function. It is not necessary to solve it.\n",
        "\n",
        "---"
      ],
      "metadata": {
        "id": "EHejnOSxacCN"
      }
    },
    {
      "cell_type": "code",
      "source": [],
      "metadata": {
        "id": "84qx8znXczF4"
      },
      "execution_count": 1,
      "outputs": []
    },
    {
      "cell_type": "markdown",
      "source": [
        "---\n",
        "\n",
        "### <a id=\"Q2\"></a>Q2. Control Problem with Optimal Consumption\n",
        "\n",
        "**Consider the following stochastic optimal control problem:**\n",
        "\n",
        "$$\n",
        "\\max_{\\{C_t\\}} \\mathbb{E}_0 \\left[ \\int_0^{\\infty} e^{-rt} C_t^a dt \\right]\n",
        "$$\n",
        "\n",
        "subject to\n",
        "\n",
        "$$\n",
        "dX_t = (b X_t - C_t) dt + h X_t dZ_t\n",
        "$$\n",
        "\n",
        "with initial condition \\( X(0) = x_0 \\), where \\( a > 0 \\), \\( b > 0 \\), and \\( h > 0 \\).\n",
        "\n",
        "1. (1 point) Find the **HJB** equation.\n",
        "2. (1 point) Find the **FOC**.\n",
        "3. (1 point) Find the **PDE** of the value function.\n",
        "4. (1 point) Solve the PDE of the value function, assuming \\( V(t, X_t) = A X_t^a e^{-rt} \\) with \\( A \\) constant.\n",
        "5. (1 point) Find the **optimal control variable** as a function of the state variable.\n",
        "\n",
        "---"
      ],
      "metadata": {
        "id": "lBMjnjDHbnUe"
      }
    },
    {
      "cell_type": "code",
      "source": [],
      "metadata": {
        "id": "R1xJf5aRcyau"
      },
      "execution_count": 1,
      "outputs": []
    },
    {
      "cell_type": "markdown",
      "source": [
        "---\n",
        "\n",
        "### <a id=\"Q3\"></a>Q3. Economy with Two Assets and a Representative Agent\n",
        "\n",
        "Consider an economy with two assets and a representative agent who can invest in a risk-free asset and a risky asset. The stochastic differential equations describing the prices of these assets are:\n",
        "\n",
        "$$\n",
        "dB_t = r B_t dt\n",
        "$$\n",
        "\n",
        "$$\n",
        "dS_t = \\mu S_t dt + \\sigma S_t dZ_t\n",
        "$$\n",
        "\n",
        "The agent maximizes their utility subject to a budget constraint:\n",
        "\n",
        "$$\n",
        "\\max_{w_B^t, w_S^t, c_t} \\mathbb{E} \\left[ \\int_0^{\\infty} U(t, c_t) dt \\right]\n",
        "$$\n",
        "\n",
        "subject to\n",
        "\n",
        "$$\n",
        "dX_t = X_t [w_B^t r + w_S^t \\mu] dt - c_t dt + w_S^t \\sigma X_t dZ_t\n",
        "$$\n",
        "\n",
        "and constraints \\( c_t \\geq 0 \\) and \\( w_B^t + w_S^t = 1 \\).\n",
        "\n",
        "1. (1 point) Find the **HJB** equation.\n",
        "2. (1 point) Find the **FOC**.\n",
        "3. (1 point) Find the **PDE** of the value function.\n",
        "\n",
        "---"
      ],
      "metadata": {
        "id": "x1vIfuEJcL1w"
      }
    },
    {
      "cell_type": "code",
      "source": [],
      "metadata": {
        "id": "wtgIVpaRcxdz"
      },
      "execution_count": 1,
      "outputs": []
    },
    {
      "cell_type": "markdown",
      "source": [
        "---\n",
        "\n",
        "### <a id=\"Q4\"></a>Q4. Control Problem with Martingale Approach\n",
        "\n",
        "Consider the stochastic control problem \\( P(w_0) \\) described by:\n",
        "\n",
        "$$\n",
        "\\max_{\\{c_t, w_t\\}} \\mathbb{E} \\left[ \\int_0^T e^{-\\rho t} U(c_t) dt + \\Phi(W_T, T) \\right]\n",
        "$$\n",
        "\n",
        "subject to\n",
        "\n",
        "$$\n",
        "dW_t = \\left[ W_t (\\omega_t \\beta + (1 - \\omega_t) r) - c_t \\right] dt + W_t \\omega_t \\sigma dZ_t\n",
        "$$\n",
        "\n",
        "where $U(c_t) = \\frac{c_t^{1 - \\gamma} - 1}{1 - \\gamma}$.\n",
        "\n",
        "1. (1 point) Find the **optimal consumption**.\n",
        "2. (1 point) Find the **optimal final wealth**.\n",
        "3. (1 point) Find the **optimal wealth**.\n",
        "4. (1 point) Determine the **optimal portfolio**.\n",
        "5. (1 point) Simulate the optimal consumption, wealth, and portfolio for $ t \\in [0, 20]$ and plot these variables.\n",
        "\n",
        "---"
      ],
      "metadata": {
        "id": "qwYvwvHLccgz"
      }
    },
    {
      "cell_type": "markdown",
      "source": [
        "---\n",
        "\n",
        "### <a id=\"Asnwer Q4\"></a>Asnwer Q4."
      ],
      "metadata": {
        "id": "ZvtGUiyL7d-J"
      }
    },
    {
      "cell_type": "markdown",
      "source": [
        "### Q4.1"
      ],
      "metadata": {
        "id": "TzASqI7l9XAz"
      }
    },
    {
      "cell_type": "markdown",
      "source": [
        "Transform dynamic opt. problem $P\\left(w_0\\right)$ into the new static opt. prob. $\\widetilde{P}_2\\left(w_0\\right)$\n",
        "\n",
        "$$\n",
        "\\begin{aligned}\n",
        "& \\max _{\\left\\{c_t, \\omega_t^s\\right\\}} E_{0, x_0}^p\\left[\\int_0^T e^{-\\rho t} \\frac{C_t^{1-\\gamma}-1}{1-\\gamma} d t+A e^{-\\rho T} \\frac{W_T^{1-\\gamma}-1}{1-\\gamma}\\right] \\\\\n",
        "& \\text { st } \\\\\n",
        "& E^p\\left[\\int_0^{T} M_t c_t d t+M_T W_T\\right]=w_0\n",
        "\\end{aligned}\n",
        "$$\n",
        "\n",
        "Lagrange Multipliers\n",
        "\n",
        "$$\n",
        "\\mathcal{L}=E_{0, x_0}^p\\left[\\int_0^T e^{-\\rho t} \\frac{C_t^{1-\\gamma}-1}{1-\\gamma} d t+A e^{-\\rho T} \\frac{W_T^{1-\\gamma} -1 }{1-\\gamma}\\right]+\\lambda\\left[W_0-E^{p}\\left[\\int_0^{T} M_t c_t d t+M_T W_T\\right]\\right]\n",
        "$$\n",
        "\n",
        "FOC respect of $c_t$\n",
        "\n",
        "$\\frac{\\partial \\mathcal{L}}{\\partial{c_t}}=E^p e^{-\\rho t} C_t^{-\\gamma}=\\lambda E^p M_t$\n",
        "$\\frac{e^{-\\rho t}}{\\lambda} M_t^{-1}=c_t^\\gamma$\n",
        "\n",
        "$$\n",
        "\\quad c_t=\\left(\\frac{e^{-\\rho t}}{\\lambda} M_t^{-1}\\right)^{\\frac{1}{\\gamma}}\n",
        "$$\n",
        "\n",
        "FOC respect of $W_t$\n",
        "\n",
        "$\\frac{\\partial \\mathcal{L}}{\\partial{W_T}}=E^p e^{-\\rho T} w_T^{-\\gamma}=\\lambda E^p M_T$\n",
        "\n",
        "$\\frac{A e^{-\\rho T} M_T^{-1}}{\\lambda}=W_T^{\\gamma}$\n",
        "\n",
        "$$W_T=\\left(\\frac{A e^{-\\rho T}}{\\lambda} M_T^{-1}\\right)^{\\frac{1}{\\gamma}}$$\n",
        "\n",
        "Introduce FOC's in Budget Constraint\n",
        "\n",
        "\n",
        "\\begin{aligned}\n",
        "& E^p\\left[\\int_0^{T} M_t c_t d t+M_T w_T\\right]=w_0 \\\\\n",
        "& E^p\\left[\\int_0^{T} M_t\\left(\\frac{e^{-\\rho t}}{\\gamma} M_t^{-1}\\right)^{\\frac{1}{r}} d t + M_T\\left(\\frac{A e^{-\\rho T}}{\\lambda} M_T^{-1}\\right)^{\\frac{1}{\\gamma}}\\right]=w_0\n",
        "\\end{aligned}\n",
        "\n",
        "Simplyfing:\n",
        "\n",
        "$$\n",
        "E^p\\left[\\int_0^{T} \\frac{M_t M_t^{-1/\\gamma} e^{ - \\frac{\\rho t}{\\gamma} }}  {\\lambda^{1/\\gamma}} d t + \\frac{ M_T M_T^{1/\\gamma} A^{1/\\gamma} e^{-\\frac{\\rho T}{\\gamma}} }{\\lambda^{1/\\gamma}} \\right]=w_0\n",
        "$$\n",
        "\n",
        "we obtain the following expression:\n",
        "\n",
        "$$\n",
        "\\left.E^{p}\\left(\\left. - \\frac{M_t^{\\frac{\\gamma-1}{\\gamma}}}{\\lambda^{1 / \\gamma}} \\cdot \\frac{\\gamma}{\\rho} e^{- \\frac{\\rho t}{\\gamma}}\\right|_0 ^T\\right) + \\frac{M_T^{\\frac{\\gamma-1}{\\gamma}}}{\\lambda^{1/\\gamma}} A^{1 / \\gamma} e^{-\\frac{\\rho T}{\\gamma}}\\right]=w_0\n",
        "$$\n",
        "\n",
        "The question is, after integrate the expression, we change t by T, I mean change $M_t$ to $M_T$, is it correct?\n",
        "\n",
        "$$\n",
        "\\frac{1}{\\lambda^{1/\\gamma}}\n",
        " \\left[\n",
        "  - \\frac{\\gamma}{\\rho} * M_T^{\\frac{\\gamma-1}{\\gamma}} e^{- \\frac{\\rho T}{\\gamma}} + M_T^{\\frac{\\gamma-1}{\\gamma}}  A^{1 / \\gamma} e^{-\\frac{\\rho T}{\\gamma}}\n",
        " \\right]  =w_0\n",
        "$$\n",
        "\n",
        "Finally, we get the expression:\n",
        "\n",
        "\\begin{aligned}\n",
        "& \\lambda^{1/\\gamma} w_0=\\left[M_T^{\\frac{\\gamma-1}{\\gamma}} e^{-\\frac{\\rho T}{\\gamma}}\\left(A^{1 / \\gamma}-\\gamma / \\rho\\right)\\right] \\\\\n",
        "& \\lambda=\\left\\{\\left[  \\frac{M_T^{\\frac{\\gamma-1}{\\gamma}} e^{-  \\frac{\\rho T}{\\gamma}}\\left(A^{1 / \\gamma}-\\gamma / \\rho \\right)}{w_0} \\right]\\right\\}^\\gamma \\\\\n",
        "& \\lambda= \\frac{M_T^{\\gamma-1} e^{- \\rho T } \\left(A^{1 / \\gamma} - \\gamma / \\rho \\right)^\\gamma}{w_0^\\gamma} \\\\\n",
        "\\end{aligned}"
      ],
      "metadata": {
        "id": "3XMQpsaL9b50"
      }
    },
    {
      "cell_type": "markdown",
      "source": [
        "We introduce ($\\lambda$) into FOC to obtain $c_t$, $W_T$ as a function of $\\mathcal{f}(M_t, M_T)$ to find $M_t$ and $M_T$\n",
        "\n",
        "$$\n",
        "c_t=e^{-\\frac{\\rho}{\\gamma}(t-T)} \\frac{M_t^{-\\frac{1}{\\gamma}} M_T^{\\frac{1-\\gamma}{\\gamma}} w_0}{A^{1 / \\gamma}-\\gamma / \\rho}\n",
        "$$\n",
        "\n",
        "$$\n",
        "w_T=\\frac{A^{1 / \\gamma} w_0 M_T^{-1}}{\\left(A^{1 / \\gamma}-\\gamma / \\rho\\right)}\n",
        "$$"
      ],
      "metadata": {
        "id": "2fZGVTd1_fiz"
      }
    },
    {
      "cell_type": "markdown",
      "source": [
        "Define $M_T$ that depends on on $L$\n",
        "\n",
        "$$\n",
        "M_T=L_T \\frac{1}{B_T} \\quad M_T=e^{-r T} L_T \\quad M_t=e^{-r t} L_t\n",
        "$$\n",
        "\n",
        "$$\n",
        "\\begin{aligned}\n",
        "d L_t & =L_t\\left\\{\\sigma^{-1}(r-\\beta)\\right\\} d Z_t \\\\\n",
        "L_0 & =1\n",
        "\\end{aligned}\n",
        "$$\n",
        "\n",
        "calculate ( $L_t$ )\n",
        "\n",
        "$$\n",
        "\\begin{gathered}\n",
        "d L_t=L_t \\psi d Z_t \\quad  \\\\\n",
        "\\psi=\\left\\{\\theta^{-1}(r-\\beta)\\right\\} \\\\\n",
        "d L_t=\\mu_L d t+\\theta_L d Z_t \\quad \\mu_L=0 \\quad \\theta_L=L_t \\psi\n",
        "\\end{gathered}\n",
        "$$\n",
        "\n",
        "\n",
        "We calculate dog( $\\left.L_r\\right)$ using Ito's Lemma\n",
        "\n",
        "$$\n",
        "f\\left(L_r\\right)=\\log \\left(L_t\\right) \\quad f_t=0 \\quad f_L=\\frac{1}{L_t} \\quad f_L=\\frac{-1}{L_t^2}\n",
        "$$\n",
        "\n",
        "Applying Ito Lemma:\n",
        "\n",
        "\\begin{aligned}\n",
        "& d \\log \\left(L_t\\right)=\\left[f_t+\\mu_L f_L+\\frac{1}{2} \\theta_L^2 f_L\\right] d t+\\left[\\theta_L f_L\\right] d Z_t \\\\\n",
        "& d \\log \\left(L_t\\right)=\\left[0+0 \\frac{1}{L_t}-\\frac{1}{2} \\theta_L^2 \\frac{1}{L_t^2}\\right] d t+\\left[L_t \\psi \\cdot\\left(+\\frac{1}{L_t}\\right)\\right] d Z_t \\\\\n",
        "& d \\log \\left(L_t\\right)=\\left[-\\frac{1}{2} \\frac{\\left(L_t \\psi\\right)^2}{L_t^2}\\right] d t+\\psi d Z_t \\\\\n",
        "& \\int_0^T d \\log \\left(L_t\\right)=\\int_0^T-\\frac{1}{2} \\psi^2 d t+\\int_0^T \\psi d Z_t \\\\\n",
        "& \\log \\left(L_T\\right)-\\log \\left(L_0\\right)=-\\frac{\\psi^2}{2} T+\\psi Z_T \\\\\n",
        "& \\log \\left(L_T\\right)=-\\frac{\\psi^2}{2} T+\\psi Z_T \\\\\n",
        "\\end{aligned}\n",
        "\n",
        "Then\n",
        "\n",
        "$$\n",
        "L_T=e^{-\\frac{\\psi^2}{2} T+\\psi Z_T} \\quad L_t=e^{-\\frac{\\psi^2}{2} t+\\psi Z_t}\n",
        "$$\n",
        "\n",
        "Therefore, we compute the stochastic discount factor\n",
        "\n",
        "\\begin{aligned}\n",
        "& e^{-T\\left(r-\\frac{\\psi^2}{2}\\right)+\\psi Z_T}=M_T \\\\\n",
        "& e^{-t\\left(r-\\frac{\\psi^2}{2}\\right)+\\psi Z_t}=M_t\n",
        "\\end{aligned}"
      ],
      "metadata": {
        "id": "-y5Xfoz1ClJ-"
      }
    },
    {
      "cell_type": "markdown",
      "source": [
        "---\n",
        "$$\n",
        "c_t^*=\\frac{w_0}{A^{1 / \\gamma}-\\gamma / \\rho} e^{\\frac{1}{\\gamma}\\left[\\rho(T-t)+\\left(r-\\frac{\\psi^2}{2}\\right)(t-T(1-\\gamma))-\\psi\\left(z_t-(1-\\alpha) z_t\\right]\\right.}\n",
        "$$\n",
        "---\n",
        "---\n",
        "$$\n",
        "w_T^*=\\frac{A^{1 / \\gamma} w_0}{\\left(A^{1 / \\gamma}-\\gamma / \\rho\\right)} e^{T\\left(r-\\frac{\\psi^2}{2}\\right)-\\psi z t}\n",
        "$$\n",
        "---"
      ],
      "metadata": {
        "id": "uM9ADzcpHx0Y"
      }
    },
    {
      "cell_type": "code",
      "source": [],
      "metadata": {
        "id": "ccIfIfwh9bUZ"
      },
      "execution_count": null,
      "outputs": []
    },
    {
      "cell_type": "code",
      "source": [],
      "metadata": {
        "id": "kj0v139rcwbi"
      },
      "execution_count": 1,
      "outputs": []
    },
    {
      "cell_type": "markdown",
      "source": [
        "---\n",
        "\n",
        "### <a id=\"Q5\"></a>Q5. Exponential Utility and Martingales\n",
        "\n",
        "Consider the same problem as in the previous exercise, but with **exponential utility**:\n",
        "\n",
        "$$\n",
        "U(c_t) = -\\frac{1}{\\gamma} e^{-\\gamma c_t}\n",
        "$$\n",
        "\n",
        "1. (4 points) Solve the problem using the **Martingale approach**.\n",
        "\n",
        "---"
      ],
      "metadata": {
        "id": "qmreqK9fcoUX"
      }
    },
    {
      "cell_type": "code",
      "source": [],
      "metadata": {
        "id": "9l1803wIcuom"
      },
      "execution_count": 1,
      "outputs": []
    }
  ]
}